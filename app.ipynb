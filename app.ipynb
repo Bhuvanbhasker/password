{
 "cells": [
  {
   "cell_type": "code",
   "execution_count": null,
   "metadata": {},
   "outputs": [],
   "source": [
    "import secrets\n",
    "import string\n",
    "\n",
    "def generate_password(length=12):\n",
    "    # Define characters to include in the password\n",
    "    characters = string.ascii_letters + string.digits + string.punctuation\n",
    "    \n",
    "    # Use secrets to generate a secure random password\n",
    "    password = ''.join(secrets.choice(characters) for _ in range(length))\n",
    "    \n",
    "    return password\n",
    "\n",
    "# Example: Generate a password with default length (12 characters)\n",
    "password = generate_password()\n",
    "print(\"Generated Password:\", password)\n"
   ]
  },
  {
   "cell_type": "code",
   "execution_count": 5,
   "metadata": {},
   "outputs": [],
   "source": [
    "import cv2\n",
    "import numpy as np\n",
    "\n",
    "def cartoonize(image_path):\n",
    "    # Read the image\n",
    "    img = cv2.imread(image_path)\n",
    "    \n",
    "    # Convert the image to grayscale\n",
    "    gray = cv2.cvtColor(img, cv2.COLOR_BGR2GRAY)\n",
    "    \n",
    "    # Apply median blur to reduce noise\n",
    "    gray = cv2.medianBlur(gray, 5)\n",
    "    \n",
    "    # Detect edges in the image and apply adaptive thresholding\n",
    "    edges = cv2.adaptiveThreshold(gray, 255, cv2.ADAPTIVE_THRESH_MEAN_C, \n",
    "                                  cv2.THRESH_BINARY, 9, 9)\n",
    "    \n",
    "    # Convert the image to a cartoon-like image\n",
    "    color = cv2.bilateralFilter(img, 9, 300, 300)\n",
    "    cartoon = cv2.bitwise_and(color, color, mask=edges)\n",
    "    \n",
    "    # Display the original and cartoonized images\n",
    "    cv2.imshow('Original Image', img)\n",
    "    cv2.imshow('Cartoonized Image', cartoon)\n",
    "    cv2.waitKey(0)\n",
    "    cv2.destroyAllWindows()\n",
    "\n",
    "# Example: Provide the path to an image\n",
    "image_path = r\"D:\\New folder\\WhatsApp Image 2023-09-19 at 15.28.40_ecd7aef3.jpg\"\n",
    "\n",
    "cartoonize(image_path)\n"
   ]
  }
 ],
 "metadata": {
  "kernelspec": {
   "display_name": "Python 3",
   "language": "python",
   "name": "python3"
  },
  "language_info": {
   "codemirror_mode": {
    "name": "ipython",
    "version": 3
   },
   "file_extension": ".py",
   "mimetype": "text/x-python",
   "name": "python",
   "nbconvert_exporter": "python",
   "pygments_lexer": "ipython3",
   "version": "3.11.6"
  }
 },
 "nbformat": 4,
 "nbformat_minor": 2
}
