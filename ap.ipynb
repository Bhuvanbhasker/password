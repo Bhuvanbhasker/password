{
 "cells": [
  {
   "cell_type": "code",
   "execution_count": 1,
   "metadata": {},
   "outputs": [
    {
     "name": "stdout",
     "output_type": "stream",
     "text": [
      "([2, 1], 'abc', 0, 9)\n"
     ]
    }
   ],
   "source": [
    "tuple =([2,3],\"abc\",0,9)\n",
    "tuple[0][1]=1\n",
    "print(tuple)"
   ]
  },
  {
   "cell_type": "code",
   "execution_count": 4,
   "metadata": {},
   "outputs": [
    {
     "name": "stdout",
     "output_type": "stream",
     "text": [
      "[23, 2, 9, 75]\n"
     ]
    }
   ],
   "source": [
    "list1=[6,23,3,2,0,9,8,75]\n",
    "print(list1[1:8:2])"
   ]
  },
  {
   "cell_type": "code",
   "execution_count": 5,
   "metadata": {},
   "outputs": [
    {
     "name": "stdout",
     "output_type": "stream",
     "text": [
      "3 2 01\n"
     ]
    }
   ],
   "source": [
    "dict1={\"a\":10,\"b\":2,\"c\":3}\n",
    "\n",
    "str1=\"\"\n",
    "\n",
    "for i in dict1:\n",
    "\n",
    "    str1=str1+str(dict1[i])+\" \"\n",
    "\n",
    "    str2=str1[:-1]\n",
    "\n",
    "print(str2[::-1])"
   ]
  },
  {
   "cell_type": "code",
   "execution_count": null,
   "metadata": {},
   "outputs": [],
   "source": [
    "ans = input(\"The capital of Canada is? \")\n",
    "\n",
    "if(ans == \"Ottawa\"): print(\"You are wise\")\n",
    "\n",
    "else:\n",
    "    print(\"You are ignorant\")\n",
    "\n",
    "# A user inputs \"ottawa\" and receives the response \"You are ignorant\".\n",
    "\n"
   ]
  },
  {
   "cell_type": "code",
   "execution_count": null,
   "metadata": {},
   "outputs": [],
   "source": []
  }
 ],
 "metadata": {
  "kernelspec": {
   "display_name": "Python 3",
   "language": "python",
   "name": "python3"
  },
  "language_info": {
   "codemirror_mode": {
    "name": "ipython",
    "version": 3
   },
   "file_extension": ".py",
   "mimetype": "text/x-python",
   "name": "python",
   "nbconvert_exporter": "python",
   "pygments_lexer": "ipython3",
   "version": "3.11.6"
  }
 },
 "nbformat": 4,
 "nbformat_minor": 2
}
